{
 "cells": [
  {
   "cell_type": "code",
   "execution_count": 2,
   "metadata": {},
   "outputs": [
    {
     "data": {
      "application/vnd.jupyter.widget-view+json": {
       "model_id": "2745abd3c74b4c828494b1f2aa474fd9",
       "version_major": 2,
       "version_minor": 0
      },
      "text/plain": [
       "modeling_progen.py:   0%|          | 0.00/24.6k [00:00<?, ?B/s]"
      ]
     },
     "metadata": {},
     "output_type": "display_data"
    },
    {
     "name": "stderr",
     "output_type": "stream",
     "text": [
      "A new version of the following files was downloaded from https://huggingface.co/hugohrban/progen2-small-mix7:\n",
      "- modeling_progen.py\n",
      ". Make sure to double-check they do not contain any added malicious code. To avoid downloading new versions of the code file, you can pin a revision.\n"
     ]
    },
    {
     "data": {
      "application/vnd.jupyter.widget-view+json": {
       "model_id": "63491a90d0c54667993b984f5e79b00b",
       "version_major": 2,
       "version_minor": 0
      },
      "text/plain": [
       "model.safetensors:   0%|          | 0.00/617M [00:00<?, ?B/s]"
      ]
     },
     "metadata": {},
     "output_type": "display_data"
    },
    {
     "data": {
      "application/vnd.jupyter.widget-view+json": {
       "model_id": "41f29fe96c1149368d07cdf15643fab9",
       "version_major": 2,
       "version_minor": 0
      },
      "text/plain": [
       "generation_config.json:   0%|          | 0.00/111 [00:00<?, ?B/s]"
      ]
     },
     "metadata": {},
     "output_type": "display_data"
    },
    {
     "data": {
      "application/vnd.jupyter.widget-view+json": {
       "model_id": "781a9a53ef8c4ee99f91522b17a0c25c",
       "version_major": 2,
       "version_minor": 0
      },
      "text/plain": [
       "tokenizer.json:   0%|          | 0.00/3.16k [00:00<?, ?B/s]"
      ]
     },
     "metadata": {},
     "output_type": "display_data"
    },
    {
     "name": "stdout",
     "output_type": "stream",
     "text": [
      "<|pad|>: 0.00 %\n",
      "<|bos|>: 0.00 %\n",
      "<|eos|>: 0.00 %\n",
      "1: 0.00 %\n",
      "2: 0.00 %\n",
      "A: 0.61 %\n",
      "B: 0.00 %\n",
      "C: 0.05 %\n",
      "D: 0.01 %\n",
      "E: 0.01 %\n",
      "F: 0.00 %\n",
      "G: 0.27 %\n",
      "H: 0.05 %\n",
      "I: 0.04 %\n",
      "K: 0.04 %\n",
      "L: 0.05 %\n",
      "M: 0.02 %\n",
      "N: 0.32 %\n",
      "O: 0.00 %\n",
      "P: 0.00 %\n",
      "Q: 0.04 %\n",
      "R: 0.16 %\n",
      "S: 67.98 %\n",
      "T: 30.31 %\n",
      "U: 0.00 %\n",
      "V: 0.03 %\n",
      "W: 0.00 %\n",
      "X: 0.00 %\n",
      "Y: 0.01 %\n",
      "Z: 0.00 %\n"
     ]
    }
   ],
   "source": [
    "# Hugo Hrbáň, creator of progen2-oas model, his sample code in fine tuning and testing the model out with inputs\n",
    "\n",
    "from transformers import AutoModelForCausalLM\n",
    "from tokenizers import Tokenizer\n",
    "# optionally use local imports\n",
    "# from models.progen.modeling_progen import ProGenForCausalLM\n",
    "# from models.progen.configuration_progen import ProGenConfig\n",
    "import torch\n",
    "\n",
    "# load model and tokenizer\n",
    "model = AutoModelForCausalLM.from_pretrained(\"hugohrban/progen2-small-mix7\", trust_remote_code=True)\n",
    "tokenizer = Tokenizer.from_pretrained(\"hugohrban/progen2-small-mix7\")\n",
    "tokenizer.no_padding()\n",
    "\n",
    "# prepare input\n",
    "prompt = \"<|pf03668|>1MEVVIVTGMSGAGK\"\n",
    "input_ids = torch.tensor(tokenizer.encode(prompt).ids).to(model.device)\n",
    "\n",
    "# forward pass\n",
    "logits = model(input_ids).logits\n",
    "\n",
    "# print next token probabilities\n",
    "next_token_logits = logits[-1, :]\n",
    "next_token_probs = torch.softmax(next_token_logits, dim=-1)\n",
    "for i in range(tokenizer.get_vocab_size(with_added_tokens=False)):\n",
    "    print(f\"{tokenizer.id_to_token(i)}: {round(100 * next_token_probs[i].item(), 2):.2f} %\")"
   ]
  },
  {
   "cell_type": "code",
   "execution_count": 3,
   "metadata": {},
   "outputs": [
    {
     "name": "stdout",
     "output_type": "stream",
     "text": [
      "<|pad|>: 0.00 %\n",
      "<|bos|>: 0.00 %\n",
      "<|eos|>: 0.00 %\n",
      "1: 0.00 %\n",
      "2: 0.03 %\n",
      "A: 24.43 %\n",
      "B: 0.00 %\n",
      "C: 1.59 %\n",
      "D: 1.20 %\n",
      "E: 0.85 %\n",
      "F: 1.16 %\n",
      "G: 2.60 %\n",
      "H: 0.75 %\n",
      "I: 2.80 %\n",
      "K: 0.58 %\n",
      "L: 14.05 %\n",
      "M: 1.24 %\n",
      "N: 0.32 %\n",
      "O: 0.00 %\n",
      "P: 12.04 %\n",
      "Q: 0.19 %\n",
      "R: 0.43 %\n",
      "S: 7.37 %\n",
      "T: 3.60 %\n",
      "U: 0.00 %\n",
      "V: 24.34 %\n",
      "W: 0.18 %\n",
      "X: 0.00 %\n",
      "Y: 0.25 %\n",
      "Z: 0.00 %\n",
      "<|pad|>: 0.00 %\n",
      "<|bos|>: 0.00 %\n",
      "<|eos|>: 0.00 %\n",
      "1: 0.00 %\n",
      "2: 0.01 %\n",
      "A: 0.03 %\n",
      "B: 0.00 %\n",
      "C: 0.00 %\n",
      "D: 1.43 %\n",
      "E: 98.47 %\n",
      "F: 0.00 %\n",
      "G: 0.00 %\n",
      "H: 0.00 %\n",
      "I: 0.00 %\n",
      "K: 0.01 %\n",
      "L: 0.00 %\n",
      "M: 0.00 %\n",
      "N: 0.00 %\n",
      "O: 0.00 %\n",
      "P: 0.00 %\n",
      "Q: 0.04 %\n",
      "R: 0.00 %\n",
      "S: 0.00 %\n",
      "T: 0.00 %\n",
      "U: 0.00 %\n",
      "V: 0.00 %\n",
      "W: 0.00 %\n",
      "X: 0.00 %\n",
      "Y: 0.00 %\n",
      "Z: 0.00 %\n",
      "<|pad|>: 0.00 %\n",
      "<|bos|>: 0.00 %\n",
      "<|eos|>: 0.00 %\n",
      "1: 0.00 %\n",
      "2: 0.01 %\n",
      "A: 0.08 %\n",
      "B: 0.00 %\n",
      "C: 0.01 %\n",
      "D: 0.00 %\n",
      "E: 0.00 %\n",
      "F: 0.01 %\n",
      "G: 0.00 %\n",
      "H: 0.01 %\n",
      "I: 27.39 %\n",
      "K: 3.79 %\n",
      "L: 3.93 %\n",
      "M: 1.59 %\n",
      "N: 0.03 %\n",
      "O: 0.00 %\n",
      "P: 0.00 %\n",
      "Q: 0.05 %\n",
      "R: 0.12 %\n",
      "S: 0.01 %\n",
      "T: 0.07 %\n",
      "U: 0.00 %\n",
      "V: 62.89 %\n",
      "W: 0.00 %\n",
      "X: 0.01 %\n",
      "Y: 0.00 %\n",
      "Z: 0.00 %\n",
      "<|pad|>: 0.00 %\n",
      "<|bos|>: 0.00 %\n",
      "<|eos|>: 0.00 %\n",
      "1: 0.00 %\n",
      "2: 1.61 %\n",
      "A: 4.99 %\n",
      "B: 0.00 %\n",
      "C: 2.84 %\n",
      "D: 3.90 %\n",
      "E: 5.42 %\n",
      "F: 3.92 %\n",
      "G: 4.47 %\n",
      "H: 2.78 %\n",
      "I: 6.31 %\n",
      "K: 5.56 %\n",
      "L: 10.06 %\n",
      "M: 2.30 %\n",
      "N: 3.98 %\n",
      "O: 0.00 %\n",
      "P: 4.09 %\n",
      "Q: 4.72 %\n",
      "R: 6.62 %\n",
      "S: 6.67 %\n",
      "T: 5.05 %\n",
      "U: 0.00 %\n",
      "V: 9.31 %\n",
      "W: 2.30 %\n",
      "X: 0.02 %\n",
      "Y: 3.09 %\n",
      "Z: 0.00 %\n",
      "<|pad|>: 0.00 %\n",
      "<|bos|>: 0.00 %\n",
      "<|eos|>: 0.00 %\n",
      "1: 0.00 %\n",
      "2: 0.05 %\n",
      "A: 4.68 %\n",
      "B: 0.00 %\n",
      "C: 2.56 %\n",
      "D: 6.88 %\n",
      "E: 6.45 %\n",
      "F: 4.08 %\n",
      "G: 5.14 %\n",
      "H: 2.50 %\n",
      "I: 5.15 %\n",
      "K: 8.06 %\n",
      "L: 7.43 %\n",
      "M: 1.91 %\n",
      "N: 6.45 %\n",
      "O: 0.00 %\n",
      "P: 4.64 %\n",
      "Q: 3.83 %\n",
      "R: 5.54 %\n",
      "S: 9.47 %\n",
      "T: 6.27 %\n",
      "U: 0.00 %\n",
      "V: 4.64 %\n",
      "W: 1.03 %\n",
      "X: 0.00 %\n",
      "Y: 3.21 %\n",
      "Z: 0.00 %\n"
     ]
    }
   ],
   "source": [
    "# generated by vanderbilt.ai, claude opus, min concise, min precision\n",
    "\n",
    "prompts = [\n",
    "    \"<|pf00106|>MSKRKALIVTGGTRGIGAAIVRRFVEEGANVVVNYARSEEEALERLDALG\",\n",
    "    \"<|pf07690|>MVLSEGEWQLVLHVWAKVEADVAGHGQDILIRLFKSHPETLEKFDRFKHLKT\",\n",
    "    \"<|pf00069|>MAAAAAAGAGPEMVRGQVFDVGPRYTNLSYIGEGAYGMVCSAYDNLNKVRVA\", \n",
    "    \"<|pf00005|>MSQSNRELVVMGFGIGLETGNLTKAYSKKGILFTQGSVPIVPYFPCLGLKRQ\",\n",
    "    \"<|pf00271|>MDTLELKQEILQLMQECARLNGEICGAVETTGLAMSRAVCGLDEKAFKYINF\"\n",
    "]\n",
    "\n",
    "for prompt in prompts: \n",
    "    input_ids = torch.tensor(tokenizer.encode(prompt).ids).to(model.device)\n",
    "    \n",
    "    logits = model(input_ids).logits\n",
    "\n",
    "    next_token_logits = logits[-1, :]\n",
    "    next_token_probs = torch.softmax(next_token_logits, dim=-1)\n",
    "    for i in range(tokenizer.get_vocab_size(with_added_tokens=False)):\n",
    "        print(f\"{tokenizer.id_to_token(i)}: {round(100 * next_token_probs[i].item(), 2):.2f} %\")"
   ]
  },
  {
   "cell_type": "code",
   "execution_count": 4,
   "metadata": {},
   "outputs": [
    {
     "data": {
      "image/png": "[encoded data removed]",
      "text/plain": [
       "<Figure size 1000x600 with 1 Axes>"
      ]
     },
     "metadata": {},
     "output_type": "display_data"
    }
   ],
   "source": [
    "import matplotlib.pyplot as plt\n",
    "\n",
    "# get the characters and their probabilities\n",
    "characters = [tokenizer.id_to_token(i) for i in range(tokenizer.get_vocab_size(with_added_tokens=False))]\n",
    "probabilities = [round(100 * next_token_probs[i].item(), 2) for i in range(tokenizer.get_vocab_size(with_added_tokens=False))]\n",
    "\n",
    "# plot the spread\n",
    "plt.figure(figsize=(10, 6))\n",
    "plt.bar(characters, probabilities)\n",
    "plt.xlabel('Characters')\n",
    "plt.ylabel('Probability (%)')\n",
    "plt.title('Spread of Characters in the Output')\n",
    "plt.show()\n"
   ]
  },
  {
   "cell_type": "code",
   "execution_count": null,
   "metadata": {},
   "outputs": [],
   "source": []
  }
 ],
 "metadata": {
  "kernelspec": {
   "display_name": "Python 3",
   "language": "python",
   "name": "python3"
  },
  "language_info": {
   "codemirror_mode": {
    "name": "ipython",
    "version": 3
   },
   "file_extension": ".py",
   "mimetype": "text/x-python",
   "name": "python",
   "nbconvert_exporter": "python",
   "pygments_lexer": "ipython3",
   "version": "3.12.4"
  }
 },
 "nbformat": 4,
 "nbformat_minor": 2
}
